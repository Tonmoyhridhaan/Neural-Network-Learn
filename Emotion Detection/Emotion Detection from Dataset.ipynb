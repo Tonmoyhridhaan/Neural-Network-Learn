{
  "nbformat": 4,
  "nbformat_minor": 0,
  "metadata": {
    "accelerator": "GPU",
    "colab": {
      "name": "1373_Assignemnt-3.ipynb",
      "provenance": [],
      "collapsed_sections": []
    },
    "kernelspec": {
      "display_name": "Python 3",
      "name": "python3"
    },
    "language_info": {
      "name": "python"
    }
  },
  "cells": [
    {
      "cell_type": "code",
      "metadata": {
        "colab": {
          "base_uri": "https://localhost:8080/"
        },
        "id": "9a0ap3tMadvB",
        "outputId": "abbaa6e3-5640-41d6-e3d4-be0cbabf32f4"
      },
      "source": [
        "import tensorflow as tf\n",
        "import numpy as np\n",
        "import pandas as pd\n",
        "from tensorflow import keras\n",
        "from tensorflow.keras.preprocessing.text import Tokenizer\n",
        "from tensorflow.keras.preprocessing.sequence import pad_sequences\n",
        "from tensorflow.keras.models import Sequential\n",
        "from tensorflow.keras.layers import Flatten, Embedding, Dense, LSTM, Bidirectional\n",
        "from google.colab import drive\n",
        "drive.mount('/content/drive')"
      ],
      "execution_count": null,
      "outputs": [
        {
          "output_type": "stream",
          "name": "stdout",
          "text": [
            "Drive already mounted at /content/drive; to attempt to forcibly remount, call drive.mount(\"/content/drive\", force_remount=True).\n"
          ]
        }
      ]
    },
    {
      "cell_type": "code",
      "metadata": {
        "id": "G_IsNn3Raf3j"
      },
      "source": [
        "# reading train text data from file\n",
        "fl = open('/content/drive/My Drive/Sample Data/train.txt','r')\n",
        "train_txt = fl.read()\n",
        "train_txt = train_txt.split('\\n')\n",
        "train_lbl=[]\n",
        "train_ex=[]\n",
        "lbl_dict={}\n",
        "train_len=len(train_txt)\n",
        "i=0\n",
        "\n",
        "# spliting data into training example and training label\n",
        "while i<train_len:\n",
        "  word=train_txt[i].split('\\\"',2)\n",
        "  train_lbl.append(word[1])\n",
        "  train_ex+=(word[2:])\n",
        "  i=i+1\n",
        "\n",
        "# dictionarize the training labels as{'বিতৃষ্ণা': 1, 'বিষণ্ণতা': 0, 'বিস্ময়': 2, 'ভয়': 3, 'রাগ': 5, 'সুখী': 4}\n",
        "lbl_dict = {\n",
        "  'বিতৃষ্ণা': 0,\n",
        "  'বিষণ্ণতা': 1,\n",
        "  'বিস্ময়': 2,\n",
        "  'ভয়': 3, \n",
        "  'রাগ': 4, \n",
        "  'সুখী': 5\n",
        "}\n",
        "\n",
        "# initilizing the train_lbl_in for training purpose in a two dimensional list with occurance\n",
        "import random\n",
        "train_lbl_int = []\n",
        "i=0\n",
        "while i<train_len:\n",
        "  train_lbl_int.append([0,0,0,0,0,0])\n",
        "  i+=1\n",
        "i=0\n",
        "while i<train_len:\n",
        "  j=0\n",
        "  while j<6:\n",
        "    if j==lbl_dict[train_lbl[i]]:\n",
        "      train_lbl_int[i][j]=1\n",
        "    j+=1\n",
        "  i+=1\n",
        "train_lbl_int = np.array(train_lbl_int)\n",
        "\n"
      ],
      "execution_count": null,
      "outputs": []
    },
    {
      "cell_type": "code",
      "metadata": {
        "id": "oxwUL8bNvF4e"
      },
      "source": [
        "# reading dev text data from file\n",
        "fl = open('/content/drive/My Drive/Sample Data/dev.txt','r')\n",
        "test_txt = fl.read()\n",
        "test_txt = test_txt.split('\\n')\n",
        "test_lbl=[]\n",
        "test_ex=[]\n",
        "test_len=len(test_txt)\n",
        "i=0\n",
        "\n",
        "# spliting data into testing example and testing label\n",
        "while i<test_len:\n",
        "  word=test_txt[i].split('\\\"',2)\n",
        "  test_lbl.append(word[1])\n",
        "  test_ex+=(word[2:])\n",
        "  i=i+1\n",
        "\n",
        "# initilizing the test_lbl_in for accuracy purpose in a two dimensional list with occurance\n",
        "test_lbl_int = []\n",
        "i=0\n",
        "while i<test_len:\n",
        "  test_lbl_int.append([0,0,0,0,0,0])\n",
        "  i+=1\n",
        "i=0\n",
        "while i<test_len:\n",
        "  j=0\n",
        "  while j<6:\n",
        "    if j==lbl_dict[test_lbl[i]]:\n",
        "      test_lbl_int[i][j]=1\n",
        "    j+=1\n",
        "  i+=1\n",
        "test_lbl_int = np.array(test_lbl_int)\n"
      ],
      "execution_count": null,
      "outputs": []
    },
    {
      "cell_type": "code",
      "metadata": {
        "id": "5FIupPBOyJDm"
      },
      "source": [
        "# tokenization and converting training words into sequences\n",
        "tokenizer = Tokenizer()\n",
        "tokenizer.fit_on_texts(train_ex)\n",
        "dense_train_ex = tokenizer.texts_to_sequences(train_ex)\n",
        "\n",
        "# tokenization and converting training words into sequences\n",
        "dense_test_ex = tokenizer.texts_to_sequences(test_ex)\n"
      ],
      "execution_count": null,
      "outputs": []
    },
    {
      "cell_type": "code",
      "metadata": {
        "id": "yKCjOeYw0egI"
      },
      "source": [
        "# padding the training documents in order to make them equal length\n",
        "SUM_TRAIN=0\n",
        "COUNT_TRAIN=0\n",
        "MAX_VOCAB=0\n",
        "for dtr in dense_train_ex:\n",
        "  SUM_TRAIN += len(dtr)\n",
        "  COUNT_TRAIN +=1\n",
        "  for token_size in dtr:\n",
        "    MAX_VOCAB=max(MAX_VOCAB,token_size)\n",
        "AVRGE_TRAIN = SUM_TRAIN//COUNT_TRAIN\n",
        "padded_train_ex = pad_sequences(dense_train_ex, maxlen=AVRGE_TRAIN+10, padding='post')\n",
        "\n",
        "# padding the training documents in order to make them equal length\n",
        "SUM_TEST=0\n",
        "COUNT_TEST=0\n",
        "for dtr in dense_test_ex:\n",
        "  SUM_TEST += len(dtr)\n",
        "  COUNT_TEST +=1\n",
        "AVRGE_TEST = SUM_TEST//COUNT_TEST\n",
        "padded_test_ex = pad_sequences(dense_test_ex, maxlen=AVRGE_TRAIN+10, padding='post')\n",
        "\n"
      ],
      "execution_count": null,
      "outputs": []
    },
    {
      "cell_type": "code",
      "metadata": {
        "id": "FfSyhmpw6Ca5"
      },
      "source": [
        "# Model Declaration\n",
        "model = Sequential()\n",
        "\n",
        "# Embedding Layer\n",
        "embedding_layer = Embedding(input_dim=MAX_VOCAB+1, output_dim=20, input_length=AVRGE_TRAIN+10)\n",
        "model.add(embedding_layer)\n",
        "\n",
        "# LSTM - for better performance\n",
        "model.add(LSTM(units=128,return_sequences=False))\n",
        "\n",
        "# Output Layer\n",
        "model.add(Dense(units=50, activation='swish'))\n",
        "model.add(Dense(units=20, activation='swish'))\n",
        "model.add(Dense(units=6, activation='swish'))\n",
        "\n"
      ],
      "execution_count": null,
      "outputs": []
    },
    {
      "cell_type": "code",
      "metadata": {
        "colab": {
          "base_uri": "https://localhost:8080/"
        },
        "id": "wMq1pA5jHY3D",
        "outputId": "d2251c7f-356e-4b76-e2c2-5a421625b002"
      },
      "source": [
        "# model initialization\n",
        "model.compile(optimizer=tf.keras.optimizers.RMSprop(), loss='mse', metrics=['accuracy'])\n",
        "print(model.summary())\n"
      ],
      "execution_count": null,
      "outputs": [
        {
          "output_type": "stream",
          "name": "stdout",
          "text": [
            "Model: \"sequential_19\"\n",
            "_________________________________________________________________\n",
            "Layer (type)                 Output Shape              Param #   \n",
            "=================================================================\n",
            "embedding_19 (Embedding)     (None, 27, 20)            345240    \n",
            "_________________________________________________________________\n",
            "lstm_19 (LSTM)               (None, 128)               76288     \n",
            "_________________________________________________________________\n",
            "dense_57 (Dense)             (None, 50)                6450      \n",
            "_________________________________________________________________\n",
            "dense_58 (Dense)             (None, 20)                1020      \n",
            "_________________________________________________________________\n",
            "dense_59 (Dense)             (None, 6)                 126       \n",
            "=================================================================\n",
            "Total params: 429,124\n",
            "Trainable params: 429,124\n",
            "Non-trainable params: 0\n",
            "_________________________________________________________________\n",
            "None\n"
          ]
        }
      ]
    },
    {
      "cell_type": "code",
      "metadata": {
        "colab": {
          "base_uri": "https://localhost:8080/"
        },
        "id": "VZrEn9oWHV5G",
        "outputId": "08ee8fa8-06ec-44db-f45a-a276b832926a"
      },
      "source": [
        "# Training the model\n",
        "model.fit(padded_train_ex, train_lbl_int,validation_data=(padded_test_ex, test_lbl_int), epochs=20, verbose=1)\n"
      ],
      "execution_count": null,
      "outputs": [
        {
          "output_type": "stream",
          "name": "stdout",
          "text": [
            "Epoch 1/20\n",
            "147/147 [==============================] - 7s 36ms/step - loss: 0.1330 - accuracy: 0.3147 - val_loss: 0.1259 - val_accuracy: 0.3500\n",
            "Epoch 2/20\n",
            "147/147 [==============================] - 5s 33ms/step - loss: 0.1176 - accuracy: 0.4109 - val_loss: 0.1129 - val_accuracy: 0.4266\n",
            "Epoch 3/20\n",
            "147/147 [==============================] - 5s 34ms/step - loss: 0.1066 - accuracy: 0.4834 - val_loss: 0.1105 - val_accuracy: 0.4596\n",
            "Epoch 4/20\n",
            "147/147 [==============================] - 5s 33ms/step - loss: 0.0988 - accuracy: 0.5370 - val_loss: 0.1101 - val_accuracy: 0.4468\n",
            "Epoch 5/20\n",
            "147/147 [==============================] - 5s 33ms/step - loss: 0.0906 - accuracy: 0.5864 - val_loss: 0.1156 - val_accuracy: 0.4649\n",
            "Epoch 6/20\n",
            "147/147 [==============================] - 5s 33ms/step - loss: 0.0832 - accuracy: 0.6168 - val_loss: 0.1164 - val_accuracy: 0.4574\n",
            "Epoch 7/20\n",
            "147/147 [==============================] - 5s 34ms/step - loss: 0.0765 - accuracy: 0.6428 - val_loss: 0.1211 - val_accuracy: 0.4436\n",
            "Epoch 8/20\n",
            "147/147 [==============================] - 5s 33ms/step - loss: 0.0698 - accuracy: 0.6796 - val_loss: 0.1185 - val_accuracy: 0.4489\n",
            "Epoch 9/20\n",
            "147/147 [==============================] - 5s 34ms/step - loss: 0.0634 - accuracy: 0.7057 - val_loss: 0.1212 - val_accuracy: 0.4447\n",
            "Epoch 10/20\n",
            "147/147 [==============================] - 5s 33ms/step - loss: 0.0587 - accuracy: 0.7319 - val_loss: 0.1279 - val_accuracy: 0.4245\n",
            "Epoch 11/20\n",
            "147/147 [==============================] - 5s 33ms/step - loss: 0.0545 - accuracy: 0.7532 - val_loss: 0.1290 - val_accuracy: 0.4500\n",
            "Epoch 12/20\n",
            "147/147 [==============================] - 5s 33ms/step - loss: 0.0492 - accuracy: 0.7826 - val_loss: 0.1304 - val_accuracy: 0.4117\n",
            "Epoch 13/20\n",
            "147/147 [==============================] - 5s 34ms/step - loss: 0.0464 - accuracy: 0.7972 - val_loss: 0.1295 - val_accuracy: 0.4319\n",
            "Epoch 14/20\n",
            "147/147 [==============================] - 5s 33ms/step - loss: 0.0417 - accuracy: 0.8245 - val_loss: 0.1259 - val_accuracy: 0.4181\n",
            "Epoch 15/20\n",
            "147/147 [==============================] - 5s 33ms/step - loss: 0.0382 - accuracy: 0.8349 - val_loss: 0.1406 - val_accuracy: 0.4170\n",
            "Epoch 16/20\n",
            "147/147 [==============================] - 5s 33ms/step - loss: 0.0343 - accuracy: 0.8596 - val_loss: 0.1482 - val_accuracy: 0.4287\n",
            "Epoch 17/20\n",
            "147/147 [==============================] - 5s 34ms/step - loss: 0.0311 - accuracy: 0.8755 - val_loss: 0.1373 - val_accuracy: 0.4191\n",
            "Epoch 18/20\n",
            "147/147 [==============================] - 5s 33ms/step - loss: 0.0278 - accuracy: 0.8932 - val_loss: 0.1491 - val_accuracy: 0.4064\n",
            "Epoch 19/20\n",
            "147/147 [==============================] - 5s 34ms/step - loss: 0.0254 - accuracy: 0.9011 - val_loss: 0.1588 - val_accuracy: 0.3979\n",
            "Epoch 20/20\n",
            "147/147 [==============================] - 5s 33ms/step - loss: 0.0226 - accuracy: 0.9155 - val_loss: 0.1501 - val_accuracy: 0.4330\n"
          ]
        },
        {
          "output_type": "execute_result",
          "data": {
            "text/plain": [
              "<keras.callbacks.History at 0x7f91f4294f90>"
            ]
          },
          "metadata": {},
          "execution_count": 196
        }
      ]
    },
    {
      "cell_type": "code",
      "metadata": {
        "id": "faQjxl56xfMq"
      },
      "source": [
        "#collecting prediction and reshaping\n",
        "prediction = model.predict(padded_test_ex)\n",
        "prediction = np.hstack(prediction)\n",
        "prediction = prediction.astype(int)\n",
        "\n",
        "#Gold label reshaping \n",
        "test_lbl_int = np.hstack(test_lbl_int)\n"
      ],
      "execution_count": null,
      "outputs": []
    },
    {
      "cell_type": "code",
      "metadata": {
        "colab": {
          "base_uri": "https://localhost:8080/"
        },
        "id": "Z6xVjnb3xT-L",
        "outputId": "4f70acd6-5eaa-4100-c324-90ac7564a16e"
      },
      "source": [
        "# Calculating Accuracy\n",
        "from sklearn.metrics import accuracy_score\n",
        "acc = accuracy_score(prediction,test_lbl_int)\n",
        "print(\"Accuracy = \",round(acc*100),\"%\")"
      ],
      "execution_count": null,
      "outputs": [
        {
          "output_type": "stream",
          "name": "stdout",
          "text": [
            "Accuracy =  85 %\n"
          ]
        }
      ]
    },
    {
      "cell_type": "code",
      "metadata": {
        "colab": {
          "base_uri": "https://localhost:8080/"
        },
        "id": "s53E_TIUtjPh",
        "outputId": "2bd837c9-01de-41c6-98a3-156ce5833005"
      },
      "source": [
        "from sklearn.metrics import f1_score\n",
        "f1score=f1_score(prediction,test_lbl_int)\n",
        "print(\"f1 score = \",round(f1score*100),\"%\")"
      ],
      "execution_count": null,
      "outputs": [
        {
          "output_type": "stream",
          "name": "stdout",
          "text": [
            "f1 score =  37 %\n"
          ]
        }
      ]
    }
  ]
}