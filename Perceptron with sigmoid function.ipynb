{
  "nbformat": 4,
  "nbformat_minor": 0,
  "metadata": {
    "colab": {
      "name": "NN_Lab-4.ipynb",
      "provenance": []
    },
    "kernelspec": {
      "name": "python3",
      "display_name": "Python 3"
    },
    "language_info": {
      "name": "python"
    }
  },
  "cells": [
    {
      "cell_type": "code",
      "metadata": {
        "id": "Wc44uMLVEnY4"
      },
      "source": [
        "import numpy as np"
      ],
      "execution_count": 2,
      "outputs": []
    },
    {
      "cell_type": "code",
      "metadata": {
        "id": "e3mX7M9dKc6Q"
      },
      "source": [
        "def sigmoid(z, derive=False):\n",
        "  if derive:\n",
        "    return z*(1-z)\n",
        "  # sigmoid rule\n",
        "  return 1/(1+np.exp(-z))"
      ],
      "execution_count": 3,
      "outputs": []
    },
    {
      "cell_type": "code",
      "metadata": {
        "id": "BvTCa1ZnFTdd"
      },
      "source": [
        "# Training Set\n",
        "X = np.array( [[1,0,0,0],\n",
        "               [1,0,0,1],\n",
        "               [1,0,1,0],\n",
        "               [1,1,0,1],\n",
        "               [1,1,0,0],\n",
        "               [1,1,1,1]] )\n",
        "# Gold/Actual Label of output\n",
        "y = np.array([[0],\n",
        "              [1],\n",
        "              [1],\n",
        "              [1],\n",
        "              [1],\n",
        "              [1]])\n",
        "# Initialize the Weights - randomly or with zeroes\n",
        "w = np.random.random((4,1))\n",
        "# b=np.random.rand()\n",
        "# w = np.zeros((3,1))\n"
      ],
      "execution_count": 4,
      "outputs": []
    },
    {
      "cell_type": "code",
      "metadata": {
        "id": "Qe6mWviwIdgk"
      },
      "source": [
        "# Training the ANN (preception)... Setting No. of Iteration (epochs)\n",
        "for iter in range(10000):\n",
        "  # Forward propagation: to Predict output (y_hat)\n",
        "  z = np.dot(X,w) \n",
        "  y_hat = sigmoid(z)\n",
        "  # print(y_hat)\n",
        "\n",
        "  # simple 'cost' calculation\n",
        "  # cost = ((y-y_hat)**2) * 0.5\n",
        "  cost = abs(y-y_hat) * 0.5\n",
        "  cost = y-y_hat\n",
        "\n",
        "  # Back-propagation (future studies)\n",
        "  dy_hat = sigmoid(y_hat, derive=True)\n",
        "  delta_w= cost*dy_hat\n",
        "\n",
        "  # Update Weights\n",
        "  w += np.dot(X.T,delta_w)"
      ],
      "execution_count": 6,
      "outputs": []
    },
    {
      "cell_type": "code",
      "metadata": {
        "colab": {
          "base_uri": "https://localhost:8080/"
        },
        "id": "6pk8ZfEIOnu4",
        "outputId": "8d6eec1f-d2c1-4110-88a0-a5fe520c1729"
      },
      "source": [
        "print(\"\\n Output afrer training\")\n",
        "print(y_hat)\n",
        "print(\"\\n Weights: \")\n",
        "print(w)"
      ],
      "execution_count": 7,
      "outputs": [
        {
          "output_type": "stream",
          "name": "stdout",
          "text": [
            "\n",
            " Output afrer training\n",
            "[[0.01934579]\n",
            " [0.98971197]\n",
            " [0.98971197]\n",
            " [0.99999787]\n",
            " [0.98971197]\n",
            " [1.        ]]\n",
            "\n",
            " Weights: \n",
            "[[-3.9257979 ]\n",
            " [ 8.49228308]\n",
            " [ 8.49228237]\n",
            " [ 8.49228277]]\n"
          ]
        }
      ]
    },
    {
      "cell_type": "code",
      "metadata": {
        "colab": {
          "base_uri": "https://localhost:8080/"
        },
        "id": "CujzXmsdQKFT",
        "outputId": "6345d208-ca78-4191-ac8d-8e5b6c5174b6"
      },
      "source": [
        "# Test Set\n",
        "T = np.array([[1,0,1,1],\n",
        "              [1,1,1,0]])\n",
        "# Final Prediction onn the test set\n",
        "y_hat = sigmoid(np.dot(T,w))\n",
        "\n",
        "print(\"\\nTest Predictions...\")\n",
        "print(y_hat)\n"
      ],
      "execution_count": 9,
      "outputs": [
        {
          "output_type": "stream",
          "name": "stdout",
          "text": [
            "\n",
            "Test Predictions...\n",
            "[[0.99999787]\n",
            " [0.99999787]]\n"
          ]
        }
      ]
    }
  ]
}