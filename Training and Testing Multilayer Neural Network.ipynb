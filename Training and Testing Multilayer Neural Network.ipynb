{
  "nbformat": 4,
  "nbformat_minor": 0,
  "metadata": {
    "colab": {
      "name": "NN_Lab-6.ipynb",
      "provenance": []
    },
    "kernelspec": {
      "name": "python3",
      "display_name": "Python 3"
    },
    "language_info": {
      "name": "python"
    }
  },
  "cells": [
    {
      "cell_type": "code",
      "metadata": {
        "id": "KAEwzBpSiJYp"
      },
      "source": [
        "import tensorflow as tf\n",
        "import numpy as np\n",
        "from tensorflow import keras"
      ],
      "execution_count": null,
      "outputs": []
    },
    {
      "cell_type": "code",
      "metadata": {
        "id": "gmmJ9LvXmvwB"
      },
      "source": [
        "# Training Dataset: training_ex = Inputs/Examples/Features ; training_lbl = Actual/Gold Label/House Price\n",
        "training_ex = np.array([(2210, 9, 1), (1800, 3, 0), (700, 3, 1), (1400, 5, 1), (1200, 4, 0), (1400, 6, 1), (530, 2, 1), (1000, 4, 0), (1500, 5, 0), (1742, 6, 0), (1700, 5, 1)])\n",
        "training_lbl = np.array([40000, 20000, 8500, 24000, 20000, 20000, 7000, 10000, 8500, 18000, 16000])"
      ],
      "execution_count": null,
      "outputs": []
    },
    {
      "cell_type": "code",
      "metadata": {
        "id": "ayilv20uoh1i"
      },
      "source": [
        "# Test Set - test_ex = Test Examples; test_lbl =  Actual/Gold Label/Price\n",
        "test_ex = np.array([(1500, 6, 1), (1300, 4, 1), (2000, 3, 1), (1600, 4, 1), (1700, 4, 0)])\n",
        "test_lbl = np.array([20000, 20000, 10000, 17000, 18000])"
      ],
      "execution_count": null,
      "outputs": []
    },
    {
      "cell_type": "code",
      "metadata": {
        "id": "bEaDNwyKi657"
      },
      "source": [
        "# 2 layer [Dense - fully connected], First hidden layer 2 nodes/units, output layer 1 node\n",
        "# input shape to it is just 3 value (3 dimensional input - 3 features)\n",
        "# activation = \"name_of the activations\"\n",
        "\n",
        "model = keras.Sequential(\n",
        "    [\n",
        "      #  keras.layers.Flatten()\n",
        "      keras.layers.Dense(units=500, input_dim=3, name='hidden_layer_1'),\n",
        "      keras.layers.Dense(units=100, name='hidden_layer_2'),\n",
        "      keras.layers.Dense(units=50, name='hidden_layer_3'),\n",
        "      keras.layers.Dense(units=2, name='hidden_layer_4'),\n",
        "      keras.layers.Dense(units=1,activation='relu', name='Output_Layer')\n",
        "    ]\n",
        ")\n",
        "# model.add(keras.layers.Dense(units=1, use_bias=False, activation='relu', name='Output_Layer'))\n",
        "print(model.summary())"
      ],
      "execution_count": null,
      "outputs": []
    },
    {
      "cell_type": "code",
      "metadata": {
        "id": "Gq3Kfktioy6U"
      },
      "source": [
        "# model initialization\n",
        "model.compile(optimizer=tf.keras.optimizers.Adam(learning_rate=0.1), loss=tf.keras.losses.mean_absolute_percentage_error, metrics=['accuracy'])"
      ],
      "execution_count": null,
      "outputs": []
    },
    {
      "cell_type": "code",
      "metadata": {
        "colab": {
          "base_uri": "https://localhost:8080/"
        },
        "id": "wj0oS0pIpzPQ",
        "outputId": "11ed7dbe-713f-4cd3-be3e-e7b046f508f4"
      },
      "source": [
        "# Traing the NN\n",
        "model.fit(training_ex, training_lbl, validation_data=(test_ex, test_lbl),epochs=100, verbose=1)"
      ],
      "execution_count": null,
      "outputs": [
        {
          "output_type": "stream",
          "name": "stdout",
          "text": [
            "Epoch 1/100\n",
            "1/1 [==============================] - 1s 610ms/step - loss: 100.7545 - accuracy: 0.0000e+00 - val_loss: 104.6029 - val_accuracy: 0.0000e+00\n",
            "Epoch 2/100\n",
            "1/1 [==============================] - 0s 24ms/step - loss: 103.8383 - accuracy: 0.0000e+00 - val_loss: 1544.0607 - val_accuracy: 0.0000e+00\n",
            "Epoch 3/100\n",
            "1/1 [==============================] - 0s 26ms/step - loss: 1272.7189 - accuracy: 0.0000e+00 - val_loss: 6216.3882 - val_accuracy: 0.0000e+00\n",
            "Epoch 4/100\n",
            "1/1 [==============================] - 0s 25ms/step - loss: 5216.5020 - accuracy: 0.0000e+00 - val_loss: 1193.1334 - val_accuracy: 0.0000e+00\n",
            "Epoch 5/100\n",
            "1/1 [==============================] - 0s 25ms/step - loss: 1014.0816 - accuracy: 0.0000e+00 - val_loss: 1576.1868 - val_accuracy: 0.0000e+00\n",
            "Epoch 6/100\n",
            "1/1 [==============================] - 0s 26ms/step - loss: 1302.7604 - accuracy: 0.0000e+00 - val_loss: 662.7170 - val_accuracy: 0.0000e+00\n",
            "Epoch 7/100\n",
            "1/1 [==============================] - 0s 24ms/step - loss: 538.6368 - accuracy: 0.0000e+00 - val_loss: 598.1654 - val_accuracy: 0.0000e+00\n",
            "Epoch 8/100\n",
            "1/1 [==============================] - 0s 29ms/step - loss: 516.2122 - accuracy: 0.0000e+00 - val_loss: 505.5626 - val_accuracy: 0.0000e+00\n",
            "Epoch 9/100\n",
            "1/1 [==============================] - 0s 24ms/step - loss: 439.0439 - accuracy: 0.0000e+00 - val_loss: 46.1886 - val_accuracy: 0.0000e+00\n",
            "Epoch 10/100\n",
            "1/1 [==============================] - 0s 28ms/step - loss: 31.4530 - accuracy: 0.0000e+00 - val_loss: 199.5128 - val_accuracy: 0.0000e+00\n",
            "Epoch 11/100\n",
            "1/1 [==============================] - 0s 26ms/step - loss: 150.6271 - accuracy: 0.0000e+00 - val_loss: 308.2353 - val_accuracy: 0.0000e+00\n",
            "Epoch 12/100\n",
            "1/1 [==============================] - 0s 29ms/step - loss: 273.8396 - accuracy: 0.0000e+00 - val_loss: 628.8898 - val_accuracy: 0.0000e+00\n",
            "Epoch 13/100\n",
            "1/1 [==============================] - 0s 27ms/step - loss: 541.9262 - accuracy: 0.0000e+00 - val_loss: 449.0569 - val_accuracy: 0.0000e+00\n",
            "Epoch 14/100\n",
            "1/1 [==============================] - 0s 25ms/step - loss: 391.6012 - accuracy: 0.0000e+00 - val_loss: 125.7960 - val_accuracy: 0.0000e+00\n",
            "Epoch 15/100\n",
            "1/1 [==============================] - 0s 22ms/step - loss: 88.9669 - accuracy: 0.0000e+00 - val_loss: 217.1001 - val_accuracy: 0.0000e+00\n",
            "Epoch 16/100\n",
            "1/1 [==============================] - 0s 27ms/step - loss: 165.2471 - accuracy: 0.0000e+00 - val_loss: 125.8051 - val_accuracy: 0.0000e+00\n",
            "Epoch 17/100\n",
            "1/1 [==============================] - 0s 31ms/step - loss: 121.4479 - accuracy: 0.0000e+00 - val_loss: 145.2031 - val_accuracy: 0.0000e+00\n",
            "Epoch 18/100\n",
            "1/1 [==============================] - 0s 23ms/step - loss: 137.7606 - accuracy: 0.0000e+00 - val_loss: 43.3674 - val_accuracy: 0.0000e+00\n",
            "Epoch 19/100\n",
            "1/1 [==============================] - 0s 26ms/step - loss: 29.4206 - accuracy: 0.0000e+00 - val_loss: 41.7424 - val_accuracy: 0.0000e+00\n",
            "Epoch 20/100\n",
            "1/1 [==============================] - 0s 30ms/step - loss: 41.6895 - accuracy: 0.0000e+00 - val_loss: 325.4217 - val_accuracy: 0.0000e+00\n",
            "Epoch 21/100\n",
            "1/1 [==============================] - 0s 25ms/step - loss: 255.1280 - accuracy: 0.0000e+00 - val_loss: 523.4037 - val_accuracy: 0.0000e+00\n",
            "Epoch 22/100\n",
            "1/1 [==============================] - 0s 24ms/step - loss: 454.7051 - accuracy: 0.0000e+00 - val_loss: 150.0900 - val_accuracy: 0.0000e+00\n",
            "Epoch 23/100\n",
            "1/1 [==============================] - 0s 26ms/step - loss: 142.3565 - accuracy: 0.0000e+00 - val_loss: 472.2545 - val_accuracy: 0.0000e+00\n",
            "Epoch 24/100\n",
            "1/1 [==============================] - 0s 29ms/step - loss: 378.2544 - accuracy: 0.0000e+00 - val_loss: 280.3689 - val_accuracy: 0.0000e+00\n",
            "Epoch 25/100\n",
            "1/1 [==============================] - 0s 26ms/step - loss: 250.6149 - accuracy: 0.0000e+00 - val_loss: 110.1429 - val_accuracy: 0.0000e+00\n",
            "Epoch 26/100\n",
            "1/1 [==============================] - 0s 25ms/step - loss: 108.3278 - accuracy: 0.0000e+00 - val_loss: 1020.8942 - val_accuracy: 0.0000e+00\n",
            "Epoch 27/100\n",
            "1/1 [==============================] - 0s 26ms/step - loss: 837.0506 - accuracy: 0.0000e+00 - val_loss: 724.2491 - val_accuracy: 0.0000e+00\n",
            "Epoch 28/100\n",
            "1/1 [==============================] - 0s 34ms/step - loss: 588.9910 - accuracy: 0.0000e+00 - val_loss: 47.3010 - val_accuracy: 0.0000e+00\n",
            "Epoch 29/100\n",
            "1/1 [==============================] - 0s 27ms/step - loss: 31.9867 - accuracy: 0.0000e+00 - val_loss: 256.8747 - val_accuracy: 0.0000e+00\n",
            "Epoch 30/100\n",
            "1/1 [==============================] - 0s 34ms/step - loss: 231.1878 - accuracy: 0.0000e+00 - val_loss: 118.8302 - val_accuracy: 0.0000e+00\n",
            "Epoch 31/100\n",
            "1/1 [==============================] - 0s 25ms/step - loss: 115.6553 - accuracy: 0.0000e+00 - val_loss: 321.5618 - val_accuracy: 0.0000e+00\n",
            "Epoch 32/100\n",
            "1/1 [==============================] - 0s 23ms/step - loss: 252.7104 - accuracy: 0.0000e+00 - val_loss: 245.4007 - val_accuracy: 0.0000e+00\n",
            "Epoch 33/100\n",
            "1/1 [==============================] - 0s 27ms/step - loss: 188.9605 - accuracy: 0.0000e+00 - val_loss: 332.7571 - val_accuracy: 0.0000e+00\n",
            "Epoch 34/100\n",
            "1/1 [==============================] - 0s 33ms/step - loss: 294.6812 - accuracy: 0.0000e+00 - val_loss: 483.5683 - val_accuracy: 0.0000e+00\n",
            "Epoch 35/100\n",
            "1/1 [==============================] - 0s 27ms/step - loss: 420.8374 - accuracy: 0.0000e+00 - val_loss: 255.8951 - val_accuracy: 0.0000e+00\n",
            "Epoch 36/100\n",
            "1/1 [==============================] - 0s 27ms/step - loss: 230.3991 - accuracy: 0.0000e+00 - val_loss: 72.4735 - val_accuracy: 0.0000e+00\n",
            "Epoch 37/100\n",
            "1/1 [==============================] - 0s 32ms/step - loss: 47.2467 - accuracy: 0.0000e+00 - val_loss: 152.7436 - val_accuracy: 0.0000e+00\n",
            "Epoch 38/100\n",
            "1/1 [==============================] - 0s 26ms/step - loss: 111.4258 - accuracy: 0.0000e+00 - val_loss: 58.7754 - val_accuracy: 0.0000e+00\n",
            "Epoch 39/100\n",
            "1/1 [==============================] - 0s 32ms/step - loss: 39.2489 - accuracy: 0.0000e+00 - val_loss: 76.6426 - val_accuracy: 0.0000e+00\n",
            "Epoch 40/100\n",
            "1/1 [==============================] - 0s 25ms/step - loss: 80.4523 - accuracy: 0.0000e+00 - val_loss: 138.3000 - val_accuracy: 0.0000e+00\n",
            "Epoch 41/100\n",
            "1/1 [==============================] - 0s 39ms/step - loss: 132.0335 - accuracy: 0.0000e+00 - val_loss: 145.2454 - val_accuracy: 0.0000e+00\n",
            "Epoch 42/100\n",
            "1/1 [==============================] - 0s 29ms/step - loss: 137.8470 - accuracy: 0.0000e+00 - val_loss: 117.0149 - val_accuracy: 0.0000e+00\n",
            "Epoch 43/100\n",
            "1/1 [==============================] - 0s 25ms/step - loss: 114.2312 - accuracy: 0.0000e+00 - val_loss: 75.8808 - val_accuracy: 0.0000e+00\n",
            "Epoch 44/100\n",
            "1/1 [==============================] - 0s 26ms/step - loss: 79.8145 - accuracy: 0.0000e+00 - val_loss: 44.1295 - val_accuracy: 0.0000e+00\n",
            "Epoch 45/100\n",
            "1/1 [==============================] - 0s 27ms/step - loss: 47.2121 - accuracy: 0.0000e+00 - val_loss: 35.0193 - val_accuracy: 0.0000e+00\n",
            "Epoch 46/100\n",
            "1/1 [==============================] - 0s 29ms/step - loss: 27.8648 - accuracy: 0.0000e+00 - val_loss: 48.9962 - val_accuracy: 0.0000e+00\n",
            "Epoch 47/100\n",
            "1/1 [==============================] - 0s 27ms/step - loss: 33.0260 - accuracy: 0.0000e+00 - val_loss: 47.6586 - val_accuracy: 0.0000e+00\n",
            "Epoch 48/100\n",
            "1/1 [==============================] - 0s 29ms/step - loss: 32.2999 - accuracy: 0.0000e+00 - val_loss: 40.9822 - val_accuracy: 0.0000e+00\n",
            "Epoch 49/100\n",
            "1/1 [==============================] - 0s 25ms/step - loss: 40.4473 - accuracy: 0.0000e+00 - val_loss: 41.0179 - val_accuracy: 0.0000e+00\n",
            "Epoch 50/100\n",
            "1/1 [==============================] - 0s 30ms/step - loss: 40.5450 - accuracy: 0.0000e+00 - val_loss: 76.3391 - val_accuracy: 0.0000e+00\n",
            "Epoch 51/100\n",
            "1/1 [==============================] - 0s 25ms/step - loss: 49.4802 - accuracy: 0.0000e+00 - val_loss: 41.3387 - val_accuracy: 0.0000e+00\n",
            "Epoch 52/100\n",
            "1/1 [==============================] - 0s 26ms/step - loss: 28.3859 - accuracy: 0.0000e+00 - val_loss: 88.3010 - val_accuracy: 0.0000e+00\n",
            "Epoch 53/100\n",
            "1/1 [==============================] - 0s 36ms/step - loss: 89.9673 - accuracy: 0.0000e+00 - val_loss: 36.9782 - val_accuracy: 0.0000e+00\n",
            "Epoch 54/100\n",
            "1/1 [==============================] - 0s 28ms/step - loss: 26.4878 - accuracy: 0.0000e+00 - val_loss: 84.5561 - val_accuracy: 0.0000e+00\n",
            "Epoch 55/100\n",
            "1/1 [==============================] - 0s 30ms/step - loss: 55.1947 - accuracy: 0.0000e+00 - val_loss: 62.3213 - val_accuracy: 0.0000e+00\n",
            "Epoch 56/100\n",
            "1/1 [==============================] - 0s 26ms/step - loss: 68.1895 - accuracy: 0.0000e+00 - val_loss: 39.1297 - val_accuracy: 0.0000e+00\n",
            "Epoch 57/100\n",
            "1/1 [==============================] - 0s 28ms/step - loss: 27.0132 - accuracy: 0.0000e+00 - val_loss: 67.1691 - val_accuracy: 0.0000e+00\n",
            "Epoch 58/100\n",
            "1/1 [==============================] - 0s 32ms/step - loss: 44.5801 - accuracy: 0.0000e+00 - val_loss: 40.1119 - val_accuracy: 0.0000e+00\n",
            "Epoch 59/100\n",
            "1/1 [==============================] - 0s 34ms/step - loss: 38.5624 - accuracy: 0.0000e+00 - val_loss: 34.4164 - val_accuracy: 0.0000e+00\n",
            "Epoch 60/100\n",
            "1/1 [==============================] - 0s 33ms/step - loss: 25.7098 - accuracy: 0.0000e+00 - val_loss: 51.6491 - val_accuracy: 0.0000e+00\n",
            "Epoch 61/100\n",
            "1/1 [==============================] - 0s 34ms/step - loss: 34.6377 - accuracy: 0.0000e+00 - val_loss: 34.8207 - val_accuracy: 0.0000e+00\n",
            "Epoch 62/100\n",
            "1/1 [==============================] - 0s 24ms/step - loss: 27.5432 - accuracy: 0.0000e+00 - val_loss: 35.2844 - val_accuracy: 0.0000e+00\n",
            "Epoch 63/100\n",
            "1/1 [==============================] - 0s 31ms/step - loss: 25.6316 - accuracy: 0.0000e+00 - val_loss: 32.6773 - val_accuracy: 0.0000e+00\n",
            "Epoch 64/100\n",
            "1/1 [==============================] - 0s 26ms/step - loss: 25.6697 - accuracy: 0.0000e+00 - val_loss: 33.9124 - val_accuracy: 0.0000e+00\n",
            "Epoch 65/100\n",
            "1/1 [==============================] - 0s 32ms/step - loss: 26.2864 - accuracy: 0.0000e+00 - val_loss: 37.6970 - val_accuracy: 0.0000e+00\n",
            "Epoch 66/100\n",
            "1/1 [==============================] - 0s 28ms/step - loss: 26.2864 - accuracy: 0.0000e+00 - val_loss: 36.6224 - val_accuracy: 0.0000e+00\n",
            "Epoch 67/100\n",
            "1/1 [==============================] - 0s 30ms/step - loss: 25.9284 - accuracy: 0.0000e+00 - val_loss: 34.5704 - val_accuracy: 0.0000e+00\n",
            "Epoch 68/100\n",
            "1/1 [==============================] - 0s 28ms/step - loss: 27.1240 - accuracy: 0.0000e+00 - val_loss: 38.0039 - val_accuracy: 0.0000e+00\n",
            "Epoch 69/100\n",
            "1/1 [==============================] - 0s 30ms/step - loss: 26.2959 - accuracy: 0.0000e+00 - val_loss: 39.5969 - val_accuracy: 0.0000e+00\n",
            "Epoch 70/100\n",
            "1/1 [==============================] - 0s 32ms/step - loss: 27.1480 - accuracy: 0.0000e+00 - val_loss: 34.6948 - val_accuracy: 0.0000e+00\n",
            "Epoch 71/100\n",
            "1/1 [==============================] - 0s 37ms/step - loss: 27.2777 - accuracy: 0.0000e+00 - val_loss: 32.5473 - val_accuracy: 0.0000e+00\n",
            "Epoch 72/100\n",
            "1/1 [==============================] - 0s 28ms/step - loss: 25.4628 - accuracy: 0.0000e+00 - val_loss: 37.1470 - val_accuracy: 0.0000e+00\n",
            "Epoch 73/100\n",
            "1/1 [==============================] - 0s 33ms/step - loss: 25.9479 - accuracy: 0.0000e+00 - val_loss: 35.2210 - val_accuracy: 0.0000e+00\n",
            "Epoch 74/100\n",
            "1/1 [==============================] - 0s 27ms/step - loss: 25.3653 - accuracy: 0.0000e+00 - val_loss: 33.9387 - val_accuracy: 0.0000e+00\n",
            "Epoch 75/100\n",
            "1/1 [==============================] - 0s 25ms/step - loss: 25.3760 - accuracy: 0.0000e+00 - val_loss: 33.2058 - val_accuracy: 0.0000e+00\n",
            "Epoch 76/100\n",
            "1/1 [==============================] - 0s 31ms/step - loss: 25.3730 - accuracy: 0.0000e+00 - val_loss: 32.9472 - val_accuracy: 0.0000e+00\n",
            "Epoch 77/100\n",
            "1/1 [==============================] - 0s 32ms/step - loss: 25.3579 - accuracy: 0.0000e+00 - val_loss: 33.1034 - val_accuracy: 0.0000e+00\n",
            "Epoch 78/100\n",
            "1/1 [==============================] - 0s 27ms/step - loss: 25.3319 - accuracy: 0.0000e+00 - val_loss: 33.6273 - val_accuracy: 0.0000e+00\n",
            "Epoch 79/100\n",
            "1/1 [==============================] - 0s 30ms/step - loss: 25.2958 - accuracy: 0.0000e+00 - val_loss: 34.4816 - val_accuracy: 0.0000e+00\n",
            "Epoch 80/100\n",
            "1/1 [==============================] - 0s 29ms/step - loss: 25.2504 - accuracy: 0.0000e+00 - val_loss: 35.6372 - val_accuracy: 0.0000e+00\n",
            "Epoch 81/100\n",
            "1/1 [==============================] - 0s 32ms/step - loss: 25.2917 - accuracy: 0.0000e+00 - val_loss: 32.6022 - val_accuracy: 0.0000e+00\n",
            "Epoch 82/100\n",
            "1/1 [==============================] - 0s 38ms/step - loss: 25.2640 - accuracy: 0.0000e+00 - val_loss: 34.2675 - val_accuracy: 0.0000e+00\n",
            "Epoch 83/100\n",
            "1/1 [==============================] - 0s 25ms/step - loss: 26.5668 - accuracy: 0.0000e+00 - val_loss: 37.4781 - val_accuracy: 0.0000e+00\n",
            "Epoch 84/100\n",
            "1/1 [==============================] - 0s 27ms/step - loss: 25.7563 - accuracy: 0.0000e+00 - val_loss: 40.6756 - val_accuracy: 0.0000e+00\n",
            "Epoch 85/100\n",
            "1/1 [==============================] - 0s 30ms/step - loss: 27.6898 - accuracy: 0.0000e+00 - val_loss: 33.2326 - val_accuracy: 0.0000e+00\n",
            "Epoch 86/100\n",
            "1/1 [==============================] - 0s 27ms/step - loss: 25.1072 - accuracy: 0.0000e+00 - val_loss: 34.8555 - val_accuracy: 0.0000e+00\n",
            "Epoch 87/100\n",
            "1/1 [==============================] - 0s 28ms/step - loss: 27.3728 - accuracy: 0.0000e+00 - val_loss: 33.2890 - val_accuracy: 0.0000e+00\n",
            "Epoch 88/100\n",
            "1/1 [==============================] - 0s 28ms/step - loss: 25.0489 - accuracy: 0.0000e+00 - val_loss: 39.3524 - val_accuracy: 0.0000e+00\n",
            "Epoch 89/100\n",
            "1/1 [==============================] - 0s 35ms/step - loss: 26.8517 - accuracy: 0.0000e+00 - val_loss: 34.7149 - val_accuracy: 0.0000e+00\n",
            "Epoch 90/100\n",
            "1/1 [==============================] - 0s 35ms/step - loss: 24.9580 - accuracy: 0.0000e+00 - val_loss: 32.7585 - val_accuracy: 0.0000e+00\n",
            "Epoch 91/100\n",
            "1/1 [==============================] - 0s 27ms/step - loss: 25.0431 - accuracy: 0.0000e+00 - val_loss: 33.6608 - val_accuracy: 0.0000e+00\n",
            "Epoch 92/100\n",
            "1/1 [==============================] - 0s 27ms/step - loss: 24.9220 - accuracy: 0.0000e+00 - val_loss: 36.4739 - val_accuracy: 0.0000e+00\n",
            "Epoch 93/100\n",
            "1/1 [==============================] - 0s 24ms/step - loss: 25.1580 - accuracy: 0.0000e+00 - val_loss: 34.0603 - val_accuracy: 0.0000e+00\n",
            "Epoch 94/100\n",
            "1/1 [==============================] - 0s 27ms/step - loss: 24.8372 - accuracy: 0.0000e+00 - val_loss: 32.5603 - val_accuracy: 0.0000e+00\n",
            "Epoch 95/100\n",
            "1/1 [==============================] - 0s 32ms/step - loss: 24.8385 - accuracy: 0.0000e+00 - val_loss: 32.5976 - val_accuracy: 0.0000e+00\n",
            "Epoch 96/100\n",
            "1/1 [==============================] - 0s 41ms/step - loss: 24.8216 - accuracy: 0.0000e+00 - val_loss: 32.9175 - val_accuracy: 0.0000e+00\n",
            "Epoch 97/100\n",
            "1/1 [==============================] - 0s 32ms/step - loss: 25.0106 - accuracy: 0.0000e+00 - val_loss: 36.0766 - val_accuracy: 0.0000e+00\n",
            "Epoch 98/100\n",
            "1/1 [==============================] - 0s 31ms/step - loss: 24.7845 - accuracy: 0.0000e+00 - val_loss: 36.0602 - val_accuracy: 0.0000e+00\n",
            "Epoch 99/100\n",
            "1/1 [==============================] - 0s 26ms/step - loss: 24.7321 - accuracy: 0.0000e+00 - val_loss: 35.3089 - val_accuracy: 0.0000e+00\n",
            "Epoch 100/100\n",
            "1/1 [==============================] - 0s 25ms/step - loss: 27.8625 - accuracy: 0.0000e+00 - val_loss: 33.7417 - val_accuracy: 0.0000e+00\n"
          ]
        },
        {
          "output_type": "execute_result",
          "data": {
            "text/plain": [
              "<keras.callbacks.History at 0x7fe8bf5b6910>"
            ]
          },
          "metadata": {},
          "execution_count": 79
        }
      ]
    },
    {
      "cell_type": "code",
      "metadata": {
        "colab": {
          "base_uri": "https://localhost:8080/"
        },
        "id": "5DjaH9KGqipj",
        "outputId": "118858c2-9e52-4931-e8a4-4755322d1b94"
      },
      "source": [
        "print(model.predict(test_ex))"
      ],
      "execution_count": null,
      "outputs": [
        {
          "output_type": "stream",
          "name": "stdout",
          "text": [
            "[[15313.844]\n",
            " [13276.975]\n",
            " [19891.035]\n",
            " [16139.161]\n",
            " [16616.113]]\n"
          ]
        }
      ]
    }
  ]
}