{
  "nbformat": 4,
  "nbformat_minor": 0,
  "metadata": {
    "colab": {
      "name": "Assignment-2.ipynb",
      "provenance": []
    },
    "kernelspec": {
      "name": "python3",
      "display_name": "Python 3"
    },
    "language_info": {
      "name": "python"
    }
  },
  "cells": [
    {
      "cell_type": "code",
      "metadata": {
        "colab": {
          "base_uri": "https://localhost:8080/"
        },
        "id": "PZBaKwYmxdBX",
        "outputId": "f8738bb7-53ca-4374-e8c3-cf3ffe4fa5d2"
      },
      "source": [
        "import tensorflow as tf\n",
        "import numpy as np\n",
        "import pandas as pd\n",
        "from tensorflow import keras\n",
        "from google.colab import drive\n",
        "drive.mount('/content/drive')\n",
        "\n"
      ],
      "execution_count": null,
      "outputs": [
        {
          "output_type": "stream",
          "name": "stdout",
          "text": [
            "Mounted at /content/drive\n"
          ]
        }
      ]
    },
    {
      "cell_type": "code",
      "metadata": {
        "id": "YgbtYmnE21HZ"
      },
      "source": [
        "# Training And Test Data Slicing using tensorflow\n",
        "datatsv = pd.read_csv('/content/drive/My Drive/Sample Data/data.tsv')\n",
        "tf_dataset = tf.data.Dataset.from_tensor_slices(datatsv)\n",
        "\n",
        "# len(train_ds)\n",
        "# datatsv\n",
        "label_0=[]\n",
        "label_1=[]\n",
        "training_ex=[]\n",
        "training_lbl=[]\n",
        "test_ex=[]\n",
        "test_lbl=[]\n",
        "\n",
        "# converting data from tf object to float array\n",
        "def get_data(row):\n",
        "  data = tf.strings.split(row, sep='\\t')[0][:9]\n",
        "  arr = []\n",
        "  for i in data:\n",
        "    # print(float(i),end=\" \")\n",
        "    arr.append(float(i))\n",
        "  return arr\n",
        "\n",
        "# separating the data into two parts based on label(label_0, label_1)\n",
        "for x in tf_dataset:\n",
        "  arr = get_data(x)\n",
        "  if arr[8]==0:\n",
        "    label_0.append(arr)\n",
        "  else :\n",
        "    label_1.append(arr)\n",
        "\n",
        "# from label_0 : choose 80% data for training and 20% data for testing\n",
        "len_0=len(label_0)\n",
        "size_0 = int(len_0*.8)\n",
        "np.random.shuffle(label_0)\n",
        "i=0\n",
        "while i<=size_0:\n",
        "  training_ex.append(label_0[i][:8])\n",
        "  training_lbl.append(label_0[i][8])\n",
        "  i=i+1\n",
        "while i<len_0:\n",
        "  test_ex.append(label_0[i][:8])\n",
        "  test_lbl.append(label_0[i][8])\n",
        "  i=i+1\n",
        "\n",
        "# from label_1 : choose 80% data for training and 20% data for testing\n",
        "len_1=len(label_1)\n",
        "size_1 = int(len_1*.8)\n",
        "np.random.shuffle(label_1)\n",
        "i=0\n",
        "while i<=size_1:\n",
        "  training_ex.append(label_1[i][:8])\n",
        "  training_lbl.append(label_1[i][8])\n",
        "  i=i+1\n",
        "while i<len_1:\n",
        "  test_ex.append(label_1[i][:8])\n",
        "  test_lbl.append(label_1[i][8])\n",
        "  i=i+1\n",
        "  \n"
      ],
      "execution_count": null,
      "outputs": []
    },
    {
      "cell_type": "code",
      "metadata": {
        "colab": {
          "base_uri": "https://localhost:8080/"
        },
        "id": "1yT1t_DGtce5",
        "outputId": "ddf095a4-f030-4d99-e802-af9d1e41ac8c"
      },
      "source": [
        "\n",
        "model = keras.Sequential(\n",
        "    [\n",
        "      keras.layers.Dense(units=900, input_dim=8, name='hidden_layer_1'),\n",
        "      keras.layers.Dense(units=800, name='hidden_layer_2'),\n",
        "      keras.layers.Dense(units=600, name='hidden_layer_3'),\n",
        "      keras.layers.Dense(units=300, name='hidden_layer_4'),\n",
        "      keras.layers.Dense(units=150, name='hidden_layer_5'),\n",
        "      keras.layers.Dense(units=50, name='hidden_layer_6'),\n",
        "      keras.layers.Dense(units=10, name='hidden_layer_7'),\n",
        "      keras.layers.Dense(units=1,activation=tf.keras.activations.relu, name='Output_Layer')\n",
        "    ]\n",
        ")\n",
        "\n",
        "print(model.summary())"
      ],
      "execution_count": null,
      "outputs": [
        {
          "output_type": "stream",
          "name": "stdout",
          "text": [
            "Model: \"sequential_1\"\n",
            "_________________________________________________________________\n",
            "Layer (type)                 Output Shape              Param #   \n",
            "=================================================================\n",
            "hidden_layer_1 (Dense)       (None, 900)               8100      \n",
            "_________________________________________________________________\n",
            "hidden_layer_2 (Dense)       (None, 800)               720800    \n",
            "_________________________________________________________________\n",
            "hidden_layer_3 (Dense)       (None, 600)               480600    \n",
            "_________________________________________________________________\n",
            "hidden_layer_4 (Dense)       (None, 300)               180300    \n",
            "_________________________________________________________________\n",
            "hidden_layer_5 (Dense)       (None, 150)               45150     \n",
            "_________________________________________________________________\n",
            "hidden_layer_6 (Dense)       (None, 50)                7550      \n",
            "_________________________________________________________________\n",
            "hidden_layer_7 (Dense)       (None, 10)                510       \n",
            "_________________________________________________________________\n",
            "Output_Layer (Dense)         (None, 1)                 11        \n",
            "=================================================================\n",
            "Total params: 1,443,021\n",
            "Trainable params: 1,443,021\n",
            "Non-trainable params: 0\n",
            "_________________________________________________________________\n",
            "None\n"
          ]
        }
      ]
    },
    {
      "cell_type": "code",
      "metadata": {
        "id": "pQuA8o2ktuWX"
      },
      "source": [
        "# model initialization\n",
        "model.compile(optimizer=tf.keras.optimizers.Adam(learning_rate=0.1), loss=tf.keras.losses.mean_absolute_percentage_error, metrics=['accuracy'])"
      ],
      "execution_count": null,
      "outputs": []
    },
    {
      "cell_type": "code",
      "metadata": {
        "colab": {
          "base_uri": "https://localhost:8080/"
        },
        "id": "u7h9HUbUtyHg",
        "outputId": "e7c847fb-c461-4dfd-a0e1-5f2abdd13870"
      },
      "source": [
        "# Traing the NN\n",
        "model.fit(training_ex, training_lbl, epochs=50, verbose=1)"
      ],
      "execution_count": null,
      "outputs": [
        {
          "output_type": "stream",
          "name": "stdout",
          "text": [
            "Epoch 1/50\n",
            "20/20 [==============================] - 1s 19ms/step - loss: nan - accuracy: 0.6510\n",
            "Epoch 2/50\n",
            "20/20 [==============================] - 0s 19ms/step - loss: nan - accuracy: 0.6510\n",
            "Epoch 3/50\n",
            "20/20 [==============================] - 0s 20ms/step - loss: nan - accuracy: 0.6510\n",
            "Epoch 4/50\n",
            "20/20 [==============================] - 0s 20ms/step - loss: nan - accuracy: 0.6510\n",
            "Epoch 5/50\n",
            "20/20 [==============================] - 0s 20ms/step - loss: nan - accuracy: 0.6510\n",
            "Epoch 6/50\n",
            "20/20 [==============================] - 0s 20ms/step - loss: nan - accuracy: 0.6510\n",
            "Epoch 7/50\n",
            "20/20 [==============================] - 0s 20ms/step - loss: nan - accuracy: 0.6510\n",
            "Epoch 8/50\n",
            "20/20 [==============================] - 0s 19ms/step - loss: nan - accuracy: 0.6510\n",
            "Epoch 9/50\n",
            "20/20 [==============================] - 0s 19ms/step - loss: nan - accuracy: 0.6510\n",
            "Epoch 10/50\n",
            "20/20 [==============================] - 0s 20ms/step - loss: nan - accuracy: 0.6510\n",
            "Epoch 11/50\n",
            "20/20 [==============================] - 0s 19ms/step - loss: nan - accuracy: 0.6510\n",
            "Epoch 12/50\n",
            "20/20 [==============================] - 0s 19ms/step - loss: nan - accuracy: 0.6510\n",
            "Epoch 13/50\n",
            "20/20 [==============================] - 0s 19ms/step - loss: nan - accuracy: 0.6510\n",
            "Epoch 14/50\n",
            "20/20 [==============================] - 0s 19ms/step - loss: nan - accuracy: 0.6510\n",
            "Epoch 15/50\n",
            "20/20 [==============================] - 0s 19ms/step - loss: nan - accuracy: 0.6510\n",
            "Epoch 16/50\n",
            "20/20 [==============================] - 0s 20ms/step - loss: nan - accuracy: 0.6510\n",
            "Epoch 17/50\n",
            "20/20 [==============================] - 0s 19ms/step - loss: nan - accuracy: 0.6510\n",
            "Epoch 18/50\n",
            "20/20 [==============================] - 0s 19ms/step - loss: nan - accuracy: 0.6510\n",
            "Epoch 19/50\n",
            "20/20 [==============================] - 0s 20ms/step - loss: nan - accuracy: 0.6510\n",
            "Epoch 20/50\n",
            "20/20 [==============================] - 0s 19ms/step - loss: nan - accuracy: 0.6510\n",
            "Epoch 21/50\n",
            "20/20 [==============================] - 0s 20ms/step - loss: nan - accuracy: 0.6510\n",
            "Epoch 22/50\n",
            "20/20 [==============================] - 0s 19ms/step - loss: nan - accuracy: 0.6510\n",
            "Epoch 23/50\n",
            "20/20 [==============================] - 0s 20ms/step - loss: nan - accuracy: 0.6510\n",
            "Epoch 24/50\n",
            "20/20 [==============================] - 0s 20ms/step - loss: nan - accuracy: 0.6510\n",
            "Epoch 25/50\n",
            "20/20 [==============================] - 0s 19ms/step - loss: nan - accuracy: 0.6510\n",
            "Epoch 26/50\n",
            "20/20 [==============================] - 0s 20ms/step - loss: nan - accuracy: 0.6510\n",
            "Epoch 27/50\n",
            "20/20 [==============================] - 0s 19ms/step - loss: nan - accuracy: 0.6510\n",
            "Epoch 28/50\n",
            "20/20 [==============================] - 0s 19ms/step - loss: nan - accuracy: 0.6510\n",
            "Epoch 29/50\n",
            "20/20 [==============================] - 0s 20ms/step - loss: nan - accuracy: 0.6510\n",
            "Epoch 30/50\n",
            "20/20 [==============================] - 0s 20ms/step - loss: nan - accuracy: 0.6510\n",
            "Epoch 31/50\n",
            "20/20 [==============================] - 0s 19ms/step - loss: nan - accuracy: 0.6510\n",
            "Epoch 32/50\n",
            "20/20 [==============================] - 0s 20ms/step - loss: nan - accuracy: 0.6510\n",
            "Epoch 33/50\n",
            "20/20 [==============================] - 0s 20ms/step - loss: nan - accuracy: 0.6510\n",
            "Epoch 34/50\n",
            "20/20 [==============================] - 0s 20ms/step - loss: nan - accuracy: 0.6510\n",
            "Epoch 35/50\n",
            "20/20 [==============================] - 0s 19ms/step - loss: nan - accuracy: 0.6510\n",
            "Epoch 36/50\n",
            "20/20 [==============================] - 0s 20ms/step - loss: nan - accuracy: 0.6510\n",
            "Epoch 37/50\n",
            "20/20 [==============================] - 0s 19ms/step - loss: nan - accuracy: 0.6510\n",
            "Epoch 38/50\n",
            "20/20 [==============================] - 0s 19ms/step - loss: nan - accuracy: 0.6510\n",
            "Epoch 39/50\n",
            "20/20 [==============================] - 0s 20ms/step - loss: nan - accuracy: 0.6510\n",
            "Epoch 40/50\n",
            "20/20 [==============================] - 0s 20ms/step - loss: nan - accuracy: 0.6510\n",
            "Epoch 41/50\n",
            "20/20 [==============================] - 0s 20ms/step - loss: nan - accuracy: 0.6510\n",
            "Epoch 42/50\n",
            "20/20 [==============================] - 0s 19ms/step - loss: nan - accuracy: 0.6510\n",
            "Epoch 43/50\n",
            "20/20 [==============================] - 0s 19ms/step - loss: nan - accuracy: 0.6510\n",
            "Epoch 44/50\n",
            "20/20 [==============================] - 0s 19ms/step - loss: nan - accuracy: 0.6510\n",
            "Epoch 45/50\n",
            "20/20 [==============================] - 0s 20ms/step - loss: nan - accuracy: 0.6510\n",
            "Epoch 46/50\n",
            "20/20 [==============================] - 0s 20ms/step - loss: nan - accuracy: 0.6510\n",
            "Epoch 47/50\n",
            "20/20 [==============================] - 0s 20ms/step - loss: nan - accuracy: 0.6510\n",
            "Epoch 48/50\n",
            "20/20 [==============================] - 0s 19ms/step - loss: nan - accuracy: 0.6510\n",
            "Epoch 49/50\n",
            "20/20 [==============================] - 0s 19ms/step - loss: nan - accuracy: 0.6510\n",
            "Epoch 50/50\n",
            "20/20 [==============================] - 0s 20ms/step - loss: nan - accuracy: 0.6510\n"
          ]
        },
        {
          "output_type": "execute_result",
          "data": {
            "text/plain": [
              "<keras.callbacks.History at 0x7f4fa10448d0>"
            ]
          },
          "metadata": {},
          "execution_count": 30
        }
      ]
    },
    {
      "cell_type": "code",
      "metadata": {
        "colab": {
          "base_uri": "https://localhost:8080/"
        },
        "id": "GR9Cx7gn6Tqj",
        "outputId": "bd761f75-b780-4360-de31-921629cece69"
      },
      "source": [
        "loss,acc = model.evaluate(test_ex, test_lbl, verbose=0)\n",
        "acc=int(acc*100)\n",
        "print(\"Total Accuracy = {}%\".format(acc))"
      ],
      "execution_count": null,
      "outputs": [
        {
          "output_type": "stream",
          "name": "stdout",
          "text": [
            "Total Accuracy = 65%\n"
          ]
        }
      ]
    }
  ]
}